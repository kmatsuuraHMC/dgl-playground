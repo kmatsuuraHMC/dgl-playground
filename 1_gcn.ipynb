{
 "cells": [
  {
   "cell_type": "code",
   "execution_count": 1,
   "metadata": {},
   "outputs": [],
   "source": [
    "%matplotlib inline"
   ]
  },
  {
   "cell_type": "markdown",
   "metadata": {},
   "source": [
    "\n",
    "\n",
    "Graph Convolutional Network\n",
    "====================================\n",
    "\n",
    "**Author:** `Qi Huang <https://github.com/HQ01>`_, `Minjie Wang  <https://jermainewang.github.io/>`_,\n",
    "Yu Gai, Quan Gan, Zheng Zhang\n",
    "\n",
    "This is a gentle introduction of using DGL to implement Graph Convolutional\n",
    "Networks (Kipf & Welling et al., `Semi-Supervised Classification with Graph\n",
    "Convolutional Networks <https://arxiv.org/pdf/1609.02907.pdf>`_). We build upon\n",
    "the :doc:`earlier tutorial <../../basics/3_pagerank>` on DGLGraph and demonstrate\n",
    "how DGL combines graph with deep neural network and learn structural representations.\n",
    "\n"
   ]
  },
  {
   "cell_type": "markdown",
   "metadata": {},
   "source": [
    "Model Overview\n",
    "------------------------------------------\n",
    "GCN from the perspective of message passing\n",
    "```````````````````````````````````````````````\n",
    "We describe a layer of graph convolutional neural network from a message\n",
    "passing perspective; the math can be found `here <math_>`_.\n",
    "It boils down to the following step, for each node $u$:\n",
    "\n",
    "1) Aggregate neighbors' representations $h_{v}$ to produce an\n",
    "intermediate representation $\\hat{h}_u$.  2) Transform the aggregated\n",
    "representation $\\hat{h}_{u}$ with a linear projection followed by a\n",
    "non-linearity: $h_{u} = f(W_{u} \\hat{h}_u)$.\n",
    "\n",
    "We will implement step 1 with DGL message passing, and step 2 with the\n",
    "``apply_nodes`` method, whose node UDF will be a PyTorch ``nn.Module``.\n",
    "\n",
    "GCN implementation with DGL\n",
    "``````````````````````````````````````````\n",
    "We first define the message and reduce function as usual.  Since the\n",
    "aggregation on a node $u$ only involves summing over the neighbors'\n",
    "representations $h_v$, we can simply use builtin functions:\n",
    "\n"
   ]
  },
  {
   "cell_type": "code",
   "execution_count": 2,
   "metadata": {},
   "outputs": [],
   "source": [
    "import dgl\n",
    "import dgl.function as fn\n",
    "import torch as th\n",
    "import torch.nn as nn\n",
    "import torch.nn.functional as F\n",
    "from dgl import DGLGraph\n",
    "\n",
    "gcn_msg = fn.copy_src(src='h', out='m')\n",
    "gcn_reduce = fn.sum(msg='m', out='h')"
   ]
  },
  {
   "cell_type": "markdown",
   "metadata": {},
   "source": [
    "We then define the node UDF for ``apply_nodes``, which is a fully-connected layer:\n",
    "\n"
   ]
  },
  {
   "cell_type": "code",
   "execution_count": 3,
   "metadata": {},
   "outputs": [],
   "source": [
    "class NodeApplyModule(nn.Module):\n",
    "    def __init__(self, in_feats, out_feats, activation):\n",
    "        super(NodeApplyModule, self).__init__()\n",
    "        self.linear = nn.Linear(in_feats, out_feats)\n",
    "        self.activation = activation\n",
    "\n",
    "    def forward(self, node):\n",
    "        h = self.linear(node.data['h'])\n",
    "        h = self.activation(h)\n",
    "        return {'h' : h}"
   ]
  },
  {
   "cell_type": "markdown",
   "metadata": {},
   "source": [
    "We then proceed to define the GCN module. A GCN layer essentially performs\n",
    "message passing on all the nodes then applies the `NodeApplyModule`. Note\n",
    "that we omitted the dropout in the paper for simplicity.\n",
    "\n"
   ]
  },
  {
   "cell_type": "code",
   "execution_count": 4,
   "metadata": {},
   "outputs": [],
   "source": [
    "class GCN(nn.Module):\n",
    "    def __init__(self, in_feats, out_feats, activation):\n",
    "        super(GCN, self).__init__()\n",
    "        self.apply_mod = NodeApplyModule(in_feats, out_feats, activation)\n",
    "\n",
    "    def forward(self, g, feature):\n",
    "        g.ndata['h'] = feature\n",
    "        g.update_all(gcn_msg, gcn_reduce)\n",
    "        g.apply_nodes(func=self.apply_mod)\n",
    "        return g.ndata.pop('h')"
   ]
  },
  {
   "cell_type": "markdown",
   "metadata": {},
   "source": [
    "The forward function is essentially the same as any other commonly seen NNs\n",
    "model in PyTorch.  We can initialize GCN like any ``nn.Module``. For example,\n",
    "let's define a simple neural network consisting of two GCN layers. Suppose we\n",
    "are training the classifier for the cora dataset (the input feature size is\n",
    "1433 and the number of classes is 7).\n",
    "\n"
   ]
  },
  {
   "cell_type": "code",
   "execution_count": 5,
   "metadata": {},
   "outputs": [
    {
     "name": "stdout",
     "output_type": "stream",
     "text": [
      "Net(\n",
      "  (gcn1): GCN(\n",
      "    (apply_mod): NodeApplyModule(\n",
      "      (linear): Linear(in_features=1433, out_features=16, bias=True)\n",
      "    )\n",
      "  )\n",
      "  (gcn2): GCN(\n",
      "    (apply_mod): NodeApplyModule(\n",
      "      (linear): Linear(in_features=16, out_features=7, bias=True)\n",
      "    )\n",
      "  )\n",
      ")\n"
     ]
    }
   ],
   "source": [
    "class Net(nn.Module):\n",
    "    def __init__(self):\n",
    "        super(Net, self).__init__()\n",
    "        self.gcn1 = GCN(1433, 16, F.relu)\n",
    "        self.gcn2 = GCN(16, 7, F.relu)\n",
    "    \n",
    "    def forward(self, g, features):\n",
    "        x = self.gcn1(g, features)\n",
    "        x = self.gcn2(g, x)\n",
    "        return x\n",
    "net = Net()\n",
    "print(net)"
   ]
  },
  {
   "cell_type": "markdown",
   "metadata": {},
   "source": [
    "We load the cora dataset using DGL's built-in data module.\n",
    "\n"
   ]
  },
  {
   "cell_type": "code",
   "execution_count": 6,
   "metadata": {},
   "outputs": [],
   "source": [
    "from dgl.data import citation_graph as citegrh\n",
    "def load_cora_data():\n",
    "    data = citegrh.load_cora()\n",
    "    features = th.FloatTensor(data.features)\n",
    "    labels = th.LongTensor(data.labels)\n",
    "    mask = th.ByteTensor(data.train_mask)\n",
    "    g = data.graph\n",
    "    # add self loop\n",
    "    g.remove_edges_from(g.selfloop_edges())\n",
    "    g = DGLGraph(g)\n",
    "    g.add_edges(g.nodes(), g.nodes())\n",
    "    return g, features, labels, mask"
   ]
  },
  {
   "cell_type": "markdown",
   "metadata": {},
   "source": [
    "We then train the network as follows:\n",
    "\n"
   ]
  },
  {
   "cell_type": "code",
   "execution_count": 7,
   "metadata": {},
   "outputs": [
    {
     "name": "stdout",
     "output_type": "stream",
     "text": [
      "Downloading /home/honda/.dgl/cora.zip from https://s3.us-east-2.amazonaws.com/dgl.ai/dataset/cora_raw.zip...\n",
      "Extracting file to /home/honda/.dgl/cora\n"
     ]
    },
    {
     "name": "stderr",
     "output_type": "stream",
     "text": [
      "/home/honda/anaconda3/lib/python3.6/site-packages/dgl/base.py:18: UserWarning: Initializer is not set. Use zero initializer instead. To suppress this warning, use `set_initializer` to explicitly specify which initializer to use.\n",
      "  warnings.warn(msg)\n",
      "/home/honda/anaconda3/lib/python3.6/site-packages/numpy/core/fromnumeric.py:2957: RuntimeWarning: Mean of empty slice.\n",
      "  out=out, **kwargs)\n",
      "/home/honda/anaconda3/lib/python3.6/site-packages/numpy/core/_methods.py:80: RuntimeWarning: invalid value encountered in double_scalars\n",
      "  ret = ret.dtype.type(ret / rcount)\n"
     ]
    },
    {
     "name": "stdout",
     "output_type": "stream",
     "text": [
      "Epoch 00000 | Loss 1.9560 | Time(s) nan\n",
      "Epoch 00001 | Loss 1.9378 | Time(s) nan\n",
      "Epoch 00002 | Loss 1.9238 | Time(s) nan\n",
      "Epoch 00003 | Loss 1.9117 | Time(s) 0.6127\n",
      "Epoch 00004 | Loss 1.8998 | Time(s) 0.6718\n",
      "Epoch 00005 | Loss 1.8878 | Time(s) 0.6548\n",
      "Epoch 00006 | Loss 1.8751 | Time(s) 0.6339\n",
      "Epoch 00007 | Loss 1.8622 | Time(s) 0.6226\n",
      "Epoch 00008 | Loss 1.8495 | Time(s) 0.6126\n",
      "Epoch 00009 | Loss 1.8366 | Time(s) 0.6220\n",
      "Epoch 00010 | Loss 1.8235 | Time(s) 0.6231\n",
      "Epoch 00011 | Loss 1.8102 | Time(s) 0.6311\n",
      "Epoch 00012 | Loss 1.7970 | Time(s) 0.6413\n",
      "Epoch 00013 | Loss 1.7837 | Time(s) 0.6484\n",
      "Epoch 00014 | Loss 1.7704 | Time(s) 0.6543\n",
      "Epoch 00015 | Loss 1.7570 | Time(s) 0.6616\n",
      "Epoch 00016 | Loss 1.7436 | Time(s) 0.6588\n",
      "Epoch 00017 | Loss 1.7304 | Time(s) 0.6624\n",
      "Epoch 00018 | Loss 1.7173 | Time(s) 0.6619\n",
      "Epoch 00019 | Loss 1.7047 | Time(s) 0.6597\n",
      "Epoch 00020 | Loss 1.6922 | Time(s) 0.6654\n",
      "Epoch 00021 | Loss 1.6796 | Time(s) 0.6662\n",
      "Epoch 00022 | Loss 1.6673 | Time(s) 0.6674\n",
      "Epoch 00023 | Loss 1.6550 | Time(s) 0.6713\n",
      "Epoch 00024 | Loss 1.6424 | Time(s) 0.6722\n",
      "Epoch 00025 | Loss 1.6282 | Time(s) 0.6733\n",
      "Epoch 00026 | Loss 1.6113 | Time(s) 0.6720\n",
      "Epoch 00027 | Loss 1.5928 | Time(s) 0.6728\n",
      "Epoch 00028 | Loss 1.5743 | Time(s) 0.6698\n",
      "Epoch 00029 | Loss 1.5557 | Time(s) 0.6686\n"
     ]
    }
   ],
   "source": [
    "import time\n",
    "import numpy as np\n",
    "g, features, labels, mask = load_cora_data()\n",
    "optimizer = th.optim.Adam(net.parameters(), lr=1e-3)\n",
    "dur = []\n",
    "for epoch in range(30):\n",
    "    if epoch >=3:\n",
    "        t0 = time.time()\n",
    "        \n",
    "    logits = net(g, features)\n",
    "    logp = F.log_softmax(logits, 1)\n",
    "    loss = F.nll_loss(logp[mask], labels[mask])\n",
    "    \n",
    "    optimizer.zero_grad()\n",
    "    loss.backward()\n",
    "    optimizer.step()\n",
    "    \n",
    "    if epoch >=3:\n",
    "        dur.append(time.time() - t0)\n",
    "    \n",
    "    print(\"Epoch {:05d} | Loss {:.4f} | Time(s) {:.4f}\".format(\n",
    "            epoch, loss.item(), np.mean(dur)))"
   ]
  },
  {
   "cell_type": "markdown",
   "metadata": {},
   "source": [
    "\n",
    "GCN in one formula\n",
    "------------------\n",
    "Mathematically, the GCN model follows this formula:\n",
    "\n",
    "$H^{(l+1)} = \\sigma(\\tilde{D}^{-\\frac{1}{2}}\\tilde{A}\\tilde{D}^{-\\frac{1}{2}}H^{(l)}W^{(l)})$\n",
    "\n",
    "Here, $H^{(l)}$ denotes the $l^{th}$ layer in the network,\n",
    "$\\sigma$ is the non-linearity, and $W$ is the weight matrix for\n",
    "this layer. $D$ and $A$, as commonly seen, represent degree\n",
    "matrix and adjacency matrix, respectively. The ~ is a renormalization trick\n",
    "in which we add a self-connection to each node of the graph, and build the\n",
    "corresponding degree and adjacency matrix.  The shape of the input\n",
    "$H^{(0)}$ is $N \\times D$, where $N$ is the number of nodes\n",
    "and $D$ is the number of input features. We can chain up multiple\n",
    "layers as such to produce a node-level representation output with shape\n",
    ":math`N \\times F`, where $F$ is the dimension of the output node\n",
    "feature vector.\n",
    "\n",
    "The equation can be efficiently implemented using sparse matrix\n",
    "multiplication kernels (such as Kipf's\n",
    "`pygcn <https://github.com/tkipf/pygcn>`_ code). The above DGL implementation\n",
    "in fact has already used this trick due to the use of builtin functions. To\n",
    "understand what is under the hood, please read our tutorial on :doc:`PageRank <../../basics/3_pagerank>`.\n",
    "\n"
   ]
  }
 ],
 "metadata": {
  "kernelspec": {
   "display_name": "Python 3",
   "language": "python",
   "name": "python3"
  },
  "language_info": {
   "codemirror_mode": {
    "name": "ipython",
    "version": 3
   },
   "file_extension": ".py",
   "mimetype": "text/x-python",
   "name": "python",
   "nbconvert_exporter": "python",
   "pygments_lexer": "ipython3",
   "version": "3.6.6"
  }
 },
 "nbformat": 4,
 "nbformat_minor": 1
}
