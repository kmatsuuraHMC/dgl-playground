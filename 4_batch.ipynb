{
 "cells": [
  {
   "cell_type": "code",
   "execution_count": 1,
   "metadata": {},
   "outputs": [],
   "source": [
    "%matplotlib inline"
   ]
  },
  {
   "cell_type": "markdown",
   "metadata": {},
   "source": [
    "\n",
    ".. currentmodule:: dgl\n",
    "\n",
    "Batched Graph Classification with DGL\n",
    "=====================================\n",
    "\n",
    "**Author**: `Mufei Li <https://github.com/mufeili>`_,\n",
    "`Minjie Wang <https://jermainewang.github.io/>`_,\n",
    "`Zheng Zhang <https://shanghai.nyu.edu/academics/faculty/directory/zheng-zhang>`_.\n",
    "\n",
    "Graph classification is an important problem\n",
    "with applications across many fields -- bioinformatics, chemoinformatics, social\n",
    "network analysis, urban computing and cyber-security. Applying graph neural\n",
    "networks to this problem has been a popular approach recently (\n",
    "`Ying et al., 2018 <https://arxiv.org/abs/1806.08804>`_,\n",
    "`Cangea et al., 2018 <https://arxiv.org/abs/1811.01287>`_,\n",
    "`Knyazev et al., 2018 <https://arxiv.org/abs/1811.09595>`_,\n",
    "`Bianchi et al., 2019 <https://arxiv.org/abs/1901.01343>`_,\n",
    "`Liao et al., 2019 <https://arxiv.org/abs/1901.01484>`_,\n",
    "`Gao et al., 2019 <https://openreview.net/forum?id=HJePRoAct7>`_).\n",
    "\n",
    "This tutorial demonstrates:\n",
    " * batching multiple graphs of variable size and shape with DGL\n",
    " * training a graph neural network for a simple graph classification task\n",
    "\n"
   ]
  },
  {
   "cell_type": "markdown",
   "metadata": {},
   "source": [
    "Simple Graph Classification Task\n",
    "--------------------------------\n",
    "In this tutorial, we will learn how to perform batched graph classification\n",
    "with dgl via a toy example of classifying 8 types of regular graphs as below:\n",
    "\n",
    "![](https://s3.us-east-2.amazonaws.com/dgl.ai/tutorial/batch/dataset_overview.png)\n",
    "\n",
    "    :align: center\n",
    "\n",
    "We implement a synthetic dataset :class:`data.MiniGCDataset` in DGL. The dataset has 8\n",
    "different types of graphs and each class has the same number of graph samples.\n",
    "\n"
   ]
  },
  {
   "cell_type": "code",
   "execution_count": 2,
   "metadata": {},
   "outputs": [
    {
     "data": {
      "image/png": "[encoded data removed]",
      "text/plain": [
       "<Figure size 432x288 with 1 Axes>"
      ]
     },
     "metadata": {},
     "output_type": "display_data"
    }
   ],
   "source": [
    "from dgl.data import MiniGCDataset\n",
    "import matplotlib.pyplot as plt\n",
    "import networkx as nx\n",
    "# A dataset with 80 samples, each graph is\n",
    "# of size [10, 20] 10-20\n",
    "dataset = MiniGCDataset(80, 10, 20)\n",
    "graph, label = dataset[0]\n",
    "fig, ax = plt.subplots()\n",
    "nx.draw(graph.to_networkx(), ax=ax)\n",
    "ax.set_title('Class: {:d}'.format(label))\n",
    "plt.show()"
   ]
  },
  {
   "cell_type": "markdown",
   "metadata": {},
   "source": [
    "Form a graph mini-batch\n",
    "-----------------------\n",
    "To train neural networks more efficiently, a common practice is to **batch**\n",
    "multiple samples together to form a mini-batch. Batching fixed-shaped tensor\n",
    "inputs is quite easy (for example, batching two images of size $28\\times 28$\n",
    "gives a tensor of shape $2\\times 28\\times 28$). By contrast, batching graph inputs\n",
    "has two challenges:\n",
    "\n",
    "* Graphs are sparse.\n",
    "* Graphs can have various length (e.g. number of nodes and edges).\n",
    "\n",
    "To address this, DGL provides a :func:`dgl.batch` API. It leverages the trick that\n",
    "a batch of graphs can be viewed as a large graph that have many disjoint\n",
    "connected components. Below is a visualization that gives the general idea:\n",
    "\n",
    "![](https://s3.us-east-2.amazonaws.com/dgl.ai/tutorial/batch/batch.png)\n",
    "\n",
    "    :width: 400pt\n",
    "    :align: center\n",
    "\n",
    "We define the following ``collate`` function to form a mini-batch from a given\n",
    "list of graph and label pairs.\n",
    "\n"
   ]
  },
  {
   "cell_type": "code",
   "execution_count": 3,
   "metadata": {},
   "outputs": [],
   "source": [
    "import dgl\n",
    "\n",
    "def collate(samples):\n",
    "    # The input `samples` is a list of pairs\n",
    "    #  (graph, label).\n",
    "    graphs, labels = map(list, zip(*samples))\n",
    "    batched_graph = dgl.batch(graphs)\n",
    "    return batched_graph, torch.tensor(labels)"
   ]
  },
  {
   "cell_type": "markdown",
   "metadata": {},
   "source": [
    "The return type of :func:`dgl.batch` is still a graph (similar to the fact that\n",
    "a batch of tensors is still a tensor). This means that any code that works\n",
    "for one graph immediately works for a batch of graphs. More importantly,\n",
    "since DGL processes messages on all nodes and edges in parallel, this greatly\n",
    "improves efficiency.\n",
    "\n",
    "Graph Classifier\n",
    "----------------\n",
    "The graph classification can be proceeded as follows:\n",
    "\n",
    "![](https://s3.us-east-2.amazonaws.com/dgl.ai/tutorial/batch/graph_classifier.png)\n",
    "\n",
    "\n",
    "From a batch of graphs, we first perform message passing/graph convolution\n",
    "for nodes to \"communicate\" with others. After message passing, we compute a\n",
    "tensor for graph representation from node (and edge) attributes. This step may\n",
    "be called \"readout/aggregation\" interchangeably. Finally, the graph\n",
    "representations can be fed into a classifier $g$ to predict the graph labels.\n",
    "\n",
    "Graph Convolution\n",
    "-----------------\n",
    "Our graph convolution operation is basically the same as that for GCN (checkout our \n",
    "`tutorial <https://docs.dgl.ai/tutorials/models/1_gnn/1_gcn.html>`_). The only difference is\n",
    "that we replace $h_{v}^{(l+1)} = \\text{ReLU}\\left(b^{(l)}+\\sum_{u\\in\\mathcal{N}(v)}h_{u}^{(l)}W^{(l)}\\right)$ by\n",
    "$h_{v}^{(l+1)} = \\text{ReLU}\\left(b^{(l)}+\\frac{1}{|\\mathcal{N}(v)|}\\sum_{u\\in\\mathcal{N}(v)}h_{u}^{(l)}W^{(l)}\\right)$.\n",
    "The replacement of summation by average is to balance nodes with different\n",
    "degrees, which gives a better performance for this experiment.\n",
    "\n",
    "Note that the self edges added in the dataset initialization allows us to\n",
    "include the original node feature $h_{v}^{(l)}$ when taking the average.\n",
    "\n"
   ]
  },
  {
   "cell_type": "code",
   "execution_count": 4,
   "metadata": {},
   "outputs": [],
   "source": [
    "import dgl.function as fn\n",
    "import torch\n",
    "import torch.nn as nn\n",
    "\n",
    "\n",
    "# Sends a message of node feature h.\n",
    "msg = fn.copy_src(src='h', out='m')\n",
    "\n",
    "def reduce(nodes):\n",
    "    \"\"\"Take an average over all neighbor node features hu and use it to\n",
    "    overwrite the original node feature.\"\"\"\n",
    "    accum = torch.mean(nodes.mailbox['m'], 1)\n",
    "    return {'h': accum}\n",
    "\n",
    "class NodeApplyModule(nn.Module):\n",
    "    \"\"\"Update the node feature hv with ReLU(Whv+b).\"\"\"\n",
    "    def __init__(self, in_feats, out_feats, activation):\n",
    "        super(NodeApplyModule, self).__init__()\n",
    "        self.linear = nn.Linear(in_feats, out_feats)\n",
    "        self.activation = activation\n",
    "\n",
    "    def forward(self, node):\n",
    "        h = self.linear(node.data['h'])\n",
    "        h = self.activation(h)\n",
    "        return {'h' : h}\n",
    "\n",
    "class GCN(nn.Module):\n",
    "    def __init__(self, in_feats, out_feats, activation):\n",
    "        super(GCN, self).__init__()\n",
    "        self.apply_mod = NodeApplyModule(in_feats, out_feats, activation)\n",
    "\n",
    "    def forward(self, g, feature):\n",
    "        # Initialize the node features with h.\n",
    "        g.ndata['h'] = feature\n",
    "        g.update_all(msg, reduce)\n",
    "        g.apply_nodes(func=self.apply_mod)\n",
    "        return g.ndata.pop('h')"
   ]
  },
  {
   "cell_type": "markdown",
   "metadata": {},
   "source": [
    "Readout and Classification\n",
    "--------------------------\n",
    "For this demonstration, we consider initial node features to be their degrees.\n",
    "After two rounds of graph convolution, we perform a graph readout by averaging\n",
    "over all node features for each graph in the batch\n",
    "\n",
    "\\begin{align}h_g=\\frac{1}{|\\mathcal{V}|}\\sum_{v\\in\\mathcal{V}}h_{v}\\end{align}\n",
    "\n",
    "In DGL, :func:`dgl.mean_nodes` handles this task for a batch of\n",
    "graphs with variable size. We then feed our graph representations into a\n",
    "classifier with one linear layer to obtain pre-softmax logits.\n",
    "\n"
   ]
  },
  {
   "cell_type": "code",
   "execution_count": 5,
   "metadata": {},
   "outputs": [],
   "source": [
    "import torch.nn.functional as F\n",
    "\n",
    "\n",
    "class Classifier(nn.Module):\n",
    "    def __init__(self, in_dim, hidden_dim, n_classes):\n",
    "        super(Classifier, self).__init__()\n",
    "\n",
    "        self.layers = nn.ModuleList([\n",
    "            GCN(in_dim, hidden_dim, F.relu),\n",
    "            GCN(hidden_dim, hidden_dim, F.relu)])\n",
    "        self.classify = nn.Linear(hidden_dim, n_classes)\n",
    "\n",
    "    def forward(self, g):\n",
    "        # For undirected graphs, in_degree is the same as\n",
    "        # out_degree.\n",
    "        h = g.in_degrees().view(-1, 1).float()\n",
    "        for conv in self.layers:\n",
    "            h = conv(g, h)\n",
    "        g.ndata['h'] = h\n",
    "        hg = dgl.mean_nodes(g, 'h')\n",
    "        return self.classify(hg)"
   ]
  },
  {
   "cell_type": "markdown",
   "metadata": {},
   "source": [
    "Setup and Training\n",
    "------------------\n",
    "We create a synthetic dataset of $400$ graphs with $10$ ~\n",
    "$20$ nodes. $320$ graphs constitute a training set and\n",
    "$80$ graphs constitute a test set.\n",
    "\n"
   ]
  },
  {
   "cell_type": "code",
   "execution_count": 6,
   "metadata": {
    "scrolled": true
   },
   "outputs": [
    {
     "name": "stderr",
     "output_type": "stream",
     "text": [
      "/home/honda/anaconda3/lib/python3.6/site-packages/dgl/base.py:18: UserWarning: Initializer is not set. Use zero initializer instead. To suppress this warning, use `set_initializer` to explicitly specify which initializer to use.\n",
      "  warnings.warn(msg)\n"
     ]
    },
    {
     "name": "stdout",
     "output_type": "stream",
     "text": [
      "Epoch 0, loss 2.0409\n",
      "Epoch 1, loss 1.9193\n",
      "Epoch 2, loss 1.8228\n",
      "Epoch 3, loss 1.7645\n",
      "Epoch 4, loss 1.6934\n",
      "Epoch 5, loss 1.5838\n",
      "Epoch 6, loss 1.5234\n",
      "Epoch 7, loss 1.4620\n",
      "Epoch 8, loss 1.3950\n",
      "Epoch 9, loss 1.3163\n",
      "Epoch 10, loss 1.2708\n",
      "Epoch 11, loss 1.2294\n",
      "Epoch 12, loss 1.1528\n",
      "Epoch 13, loss 1.1257\n",
      "Epoch 14, loss 1.0958\n",
      "Epoch 15, loss 1.0542\n",
      "Epoch 16, loss 1.0154\n",
      "Epoch 17, loss 1.0081\n",
      "Epoch 18, loss 0.9838\n",
      "Epoch 19, loss 0.9814\n",
      "Epoch 20, loss 0.9821\n",
      "Epoch 21, loss 0.9510\n",
      "Epoch 22, loss 0.9464\n",
      "Epoch 23, loss 0.9116\n",
      "Epoch 24, loss 0.9193\n",
      "Epoch 25, loss 0.9122\n",
      "Epoch 26, loss 0.9211\n",
      "Epoch 27, loss 0.8737\n",
      "Epoch 28, loss 0.8443\n",
      "Epoch 29, loss 0.8386\n",
      "Epoch 30, loss 0.8486\n",
      "Epoch 31, loss 0.8270\n",
      "Epoch 32, loss 0.8303\n",
      "Epoch 33, loss 0.8073\n",
      "Epoch 34, loss 0.7991\n",
      "Epoch 35, loss 0.8005\n",
      "Epoch 36, loss 0.8265\n",
      "Epoch 37, loss 0.7731\n",
      "Epoch 38, loss 0.7620\n",
      "Epoch 39, loss 0.7559\n",
      "Epoch 40, loss 0.7369\n",
      "Epoch 41, loss 0.7315\n",
      "Epoch 42, loss 0.7418\n",
      "Epoch 43, loss 0.7464\n",
      "Epoch 44, loss 0.7244\n",
      "Epoch 45, loss 0.7615\n",
      "Epoch 46, loss 0.7454\n",
      "Epoch 47, loss 0.7485\n",
      "Epoch 48, loss 0.7107\n",
      "Epoch 49, loss 0.7047\n",
      "Epoch 50, loss 0.6803\n",
      "Epoch 51, loss 0.6700\n",
      "Epoch 52, loss 0.6684\n",
      "Epoch 53, loss 0.6873\n",
      "Epoch 54, loss 0.6754\n",
      "Epoch 55, loss 0.6560\n",
      "Epoch 56, loss 0.6539\n",
      "Epoch 57, loss 0.6355\n",
      "Epoch 58, loss 0.6363\n",
      "Epoch 59, loss 0.6289\n",
      "Epoch 60, loss 0.6159\n",
      "Epoch 61, loss 0.6020\n",
      "Epoch 62, loss 0.5846\n",
      "Epoch 63, loss 0.6126\n",
      "Epoch 64, loss 0.5770\n",
      "Epoch 65, loss 0.5820\n",
      "Epoch 66, loss 0.5701\n",
      "Epoch 67, loss 0.5959\n",
      "Epoch 68, loss 0.5597\n",
      "Epoch 69, loss 0.5683\n",
      "Epoch 70, loss 0.5574\n",
      "Epoch 71, loss 0.5246\n",
      "Epoch 72, loss 0.5380\n",
      "Epoch 73, loss 0.5313\n",
      "Epoch 74, loss 0.5471\n",
      "Epoch 75, loss 0.5154\n",
      "Epoch 76, loss 0.5067\n",
      "Epoch 77, loss 0.5135\n",
      "Epoch 78, loss 0.5343\n",
      "Epoch 79, loss 0.4871\n"
     ]
    }
   ],
   "source": [
    "import torch.optim as optim\n",
    "from torch.utils.data import DataLoader\n",
    "\n",
    "# Create training and test sets.\n",
    "trainset = MiniGCDataset(320, 10, 20)\n",
    "testset = MiniGCDataset(80, 10, 20)\n",
    "# Use PyTorch's DataLoader and the collate function\n",
    "# defined before.\n",
    "data_loader = DataLoader(trainset, batch_size=32, shuffle=True,\n",
    "                         collate_fn=collate)\n",
    "\n",
    "# Create model\n",
    "model = Classifier(1, 256, trainset.num_classes)\n",
    "loss_func = nn.CrossEntropyLoss()\n",
    "optimizer = optim.Adam(model.parameters(), lr=0.001)\n",
    "model.train()\n",
    "\n",
    "epoch_losses = []\n",
    "for epoch in range(80):\n",
    "    epoch_loss = 0\n",
    "    for iter, (bg, label) in enumerate(data_loader):\n",
    "        prediction = model(bg)\n",
    "        loss = loss_func(prediction, label)\n",
    "        optimizer.zero_grad()\n",
    "        loss.backward()\n",
    "        optimizer.step()\n",
    "        epoch_loss += loss.detach().item()\n",
    "    epoch_loss /= (iter + 1)\n",
    "    print('Epoch {}, loss {:.4f}'.format(epoch, epoch_loss))\n",
    "    epoch_losses.append(epoch_loss)"
   ]
  },
  {
   "cell_type": "markdown",
   "metadata": {},
   "source": [
    "The learning curve of a run is presented below:\n",
    "\n"
   ]
  },
  {
   "cell_type": "code",
   "execution_count": 7,
   "metadata": {},
   "outputs": [
    {
     "data": {
      "image/png": "[encoded data removed]",
      "text/plain": [
       "<Figure size 432x288 with 1 Axes>"
      ]
     },
     "metadata": {
      "needs_background": "light"
     },
     "output_type": "display_data"
    }
   ],
   "source": [
    "plt.title('cross entropy averaged over minibatches')\n",
    "plt.plot(epoch_losses)\n",
    "plt.show()"
   ]
  },
  {
   "cell_type": "markdown",
   "metadata": {},
   "source": [
    "The trained model is evaluated on the test set created. Note that for deployment\n",
    "of the tutorial, we restrict our running time and you are likely to get a higher\n",
    "accuracy ($80$ % ~ $90$ %) than the ones printed below.\n",
    "\n"
   ]
  },
  {
   "cell_type": "code",
   "execution_count": 9,
   "metadata": {},
   "outputs": [
    {
     "name": "stdout",
     "output_type": "stream",
     "text": [
      "Accuracy of sampled predictions on the test set: 77.5000%\n",
      "Accuracy of argmax predictions on the test set: 88.750000%\n"
     ]
    }
   ],
   "source": [
    "model.eval()\n",
    "# Convert a list of tuples to two lists\n",
    "test_X, test_Y = map(list, zip(*testset))\n",
    "test_bg = dgl.batch(test_X)\n",
    "test_Y = torch.tensor(test_Y).float().view(-1, 1)\n",
    "probs_Y = torch.softmax(model(test_bg), 1)\n",
    "sampled_Y = torch.multinomial(probs_Y, 1)\n",
    "argmax_Y = torch.max(probs_Y, 1)[1].view(-1, 1)\n",
    "print('Accuracy of sampled predictions on the test set: {:.4f}%'.format(\n",
    "    (test_Y == sampled_Y.float()).sum().item() / len(test_Y) * 100))\n",
    "print('Accuracy of argmax predictions on the test set: {:4f}%'.format(\n",
    "    (test_Y == argmax_Y.float()).sum().item() / len(test_Y) * 100))"
   ]
  },
  {
   "cell_type": "markdown",
   "metadata": {},
   "source": [
    "Below is an animation where we plot graphs with the probability a trained model\n",
    "assigns its ground truth label to it:\n",
    "\n",
    "![](https://s3.us-east-2.amazonaws.com/dgl.ai/tutorial/batch/test_eval4.gif)\n",
    "\n",
    "\n",
    "To understand the node/graph representations a trained model learnt,\n",
    "we use `t-SNE, <https://lvdmaaten.github.io/tsne/>`_ for dimensionality reduction\n",
    "and visualization.\n",
    "\n",
    "![](https://s3.us-east-2.amazonaws.com/dgl.ai/tutorial/batch/tsne_node2.png)\n",
    "\n",
    "    :align: center\n",
    "\n",
    "![](https://s3.us-east-2.amazonaws.com/dgl.ai/tutorial/batch/tsne_graph2.png)\n",
    "\n",
    "    :align: center\n",
    "\n",
    "The two small figures on the top separately visualize node representations after $1$,\n",
    "$2$ layers of graph convolution and the figure on the bottom visualizes\n",
    "the pre-softmax logits for graphs as graph representations.\n",
    "\n",
    "While the visualization does suggest some clustering effects of the node features,\n",
    "it is expected not to be a perfect result as node degrees are deterministic for\n",
    "our node features. Meanwhile, the graph features are way better separated.\n",
    "\n",
    "What's Next?\n",
    "------------\n",
    "Graph classification with graph neural networks is still a very young field\n",
    "waiting for folks to bring more exciting discoveries! It is not easy as it\n",
    "requires mapping different graphs to different embeddings while preserving\n",
    "their structural similarity in the embedding space. To learn more about it,\n",
    "`\"How Powerful Are Graph Neural Networks?\" <https://arxiv.org/abs/1810.00826>`_\n",
    "in ICLR 2019 might be a good starting point.\n",
    "\n",
    "With regards to more examples on batched graph processing, see\n",
    "\n",
    "* our tutorials on `Tree LSTM <https://docs.dgl.ai/tutorials/models/2_small_graph/3_tree-lstm.html>`_ and `Deep Generative Models of Graphs <https://docs.dgl.ai/tutorials/models/3_generative_model/5_dgmg.html>`_\n",
    "* an example implementation of `Junction Tree VAE <https://github.com/dmlc/dgl/tree/master/examples/pytorch/jtnn>`_\n",
    "\n"
   ]
  }
 ],
 "metadata": {
  "kernelspec": {
   "display_name": "Python 3",
   "language": "python",
   "name": "python3"
  },
  "language_info": {
   "codemirror_mode": {
    "name": "ipython",
    "version": 3
   },
   "file_extension": ".py",
   "mimetype": "text/x-python",
   "name": "python",
   "nbconvert_exporter": "python",
   "pygments_lexer": "ipython3",
   "version": "3.6.6"
  }
 },
 "nbformat": 4,
 "nbformat_minor": 1
}
